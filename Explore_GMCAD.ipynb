{
 "cells": [
  {
   "cell_type": "markdown",
   "metadata": {},
   "source": [
    "# Exploring GMCAD\n",
    "\n",
    "Before Exploring GMCAD, we reommend you read the article *GMCAD: an original Synthetic Dataset of 2D Designs along their Geometrical and Mechanical Conditions* accepted to the conference ISM 2021 to understand the objective and inception of GMCAD.\n",
    "\n",
    "## Downloading GMCAD\n",
    "\n",
    "To download the designs in their .png format and their parameters, use the link https://drive.google.com/file/d/1fNnuKPTVygAM3UQgdeFdi9CJtvKGaCGG/view .\n",
    "\n",
    "To download the cads in their .vtk format, use the link https://drive.google.com/file/d/1yRSBJhvPiOuNwdnbbIEqZepAjNNwYqiR/view?usp=sharing .\n",
    "\n",
    "GMCAD dataset is split into 3 sets: **train**, **validation** and **test** sets. <br>\n",
    "In each folder, there is 2 sub-folders: \"designs\" and \"parameters\". <br>\n",
    "In \"designs\", you will find the 2D truss-like designs in the .png format. <br>\n",
    "In \"parameters\", you will find an excel file with all geoemtric and mechanical parameters of every design.\n",
    "\n",
    "## Exploring the variables in GMCAD\n",
    "GMCAD's variables can be divided to 3 parts:\n",
    "- The designs references: **design_reference** is the ID of every design and a key to match each design to its parameters\n",
    "- The mechanial variables: the mechanical variables are the mechanical constraints of every design, these constraints were predicted by Deep Learning Mechanical-conditions predictors as explained in the article.\n",
    "- The geometrical variables: the geometrical variables are the geometrical constraints of every design (lengths, widths, angles, etc.)\n",
    "\n",
    "**GMCAD's mechanical variables are:**\n",
    "- Boundary conditions: BC_nodes\n",
    "- Loads configurations: F_nodes, F_tetas, F_values\n",
    "- volume fraction: volume_fractions\n",
    "- compliance (in Joules): compliance_synthetic_designs\n",
    "\n",
    "**GMCAD's geometrical variables are:**\n",
    "- Overhang:  angle_rotation, overhangs_in_design, min_overhang \n",
    "- beam-length: bars_lengths, min_bar_length, average_bar_length, max_bar_length,normalized_bars_lengths, min_normalized_bar_length, average_normalized_bar_length, max_normalized_bar_length,\n",
    "- beam-width:  normalized_bars_widths, min_normalized_bar_width, average_normalized_bar_width, max_normalized_bar_width, bars_widths, min_bar_width, average_bar_width, max_bar_widgth  \n",
    "- number of beams: number_of_bars\n",
    "- beams coordinates: bars_coordinates\n",
    "\n",
    "***NB:*** <br>\n",
    "*Every design was rotated 3 times (i.e. it exists in 4 states). <br>\n",
    "The build direction is set to the y-axis.<br>\n",
    "The variable angle_rotation is very important because designs were saved with no rotation (i.e. angle of rotation = 0°) and only their parameters were computed and saved for different orientations. In fact, the only parameters that are affected with rotation are the BC_nodes, F_nodes and overhangs. <br>\n",
    "BC_nodes and F_nodes are simply transformed into 2D matrices and rotated afterwards according to the angle of rotation variable (the transformation is coded in the function draw_mechanical_constraints_on_design below). <br>\n",
    "However, the overhangs were already computed accounting for the rotation.<br>*"
   ]
  },
  {
   "cell_type": "code",
   "execution_count": 1,
   "metadata": {},
   "outputs": [],
   "source": [
    "import pandas as pd, numpy as np, seaborn as sns, matplotlib.pyplot as plt"
   ]
  },
  {
   "cell_type": "code",
   "execution_count": 2,
   "metadata": {},
   "outputs": [],
   "source": [
    "parameters_of_train_set = pd.read_excel('./data_shared/train/parameters/train_meca_geom.xlsx', 'data')"
   ]
  },
  {
   "cell_type": "code",
   "execution_count": 3,
   "metadata": {},
   "outputs": [
    {
     "data": {
      "text/plain": [
       "Index(['design_reference', 'angle_rotation', 'overhangs_in_design',\n",
       "       'min_overhang', 'BC_nodes', 'F_nodes', 'F_tetas', 'F_values',\n",
       "       'volume_fractions', 'compliance_synthetic_designs', 'number_of_bars',\n",
       "       'min_normalized_bar_length', 'average_normalized_bar_length',\n",
       "       'max_normalized_bar_length', 'min_bar_length', 'average_bar_length',\n",
       "       'max_bar_length', 'min_normalized_bar_width',\n",
       "       'average_normalized_bar_width', 'max_normalized_bar_width',\n",
       "       'min_bar_width', 'average_bar_width', 'max_bar_widgth', 'bars_lengths',\n",
       "       'normalized_bars_lengths', 'bars_widths', 'normalized_bars_widths',\n",
       "       'bars_coordinates'],\n",
       "      dtype='object')"
      ]
     },
     "execution_count": 3,
     "metadata": {},
     "output_type": "execute_result"
    }
   ],
   "source": [
    "parameters_of_train_set.columns"
   ]
  },
  {
   "cell_type": "code",
   "execution_count": 4,
   "metadata": {},
   "outputs": [
    {
     "data": {
      "text/html": [
       "<div>\n",
       "<style scoped>\n",
       "    .dataframe tbody tr th:only-of-type {\n",
       "        vertical-align: middle;\n",
       "    }\n",
       "\n",
       "    .dataframe tbody tr th {\n",
       "        vertical-align: top;\n",
       "    }\n",
       "\n",
       "    .dataframe thead th {\n",
       "        text-align: right;\n",
       "    }\n",
       "</style>\n",
       "<table border=\"1\" class=\"dataframe\">\n",
       "  <thead>\n",
       "    <tr style=\"text-align: right;\">\n",
       "      <th></th>\n",
       "      <th>design_reference</th>\n",
       "      <th>angle_rotation</th>\n",
       "      <th>overhangs_in_design</th>\n",
       "      <th>min_overhang</th>\n",
       "      <th>BC_nodes</th>\n",
       "      <th>F_nodes</th>\n",
       "      <th>F_tetas</th>\n",
       "      <th>F_values</th>\n",
       "      <th>volume_fractions</th>\n",
       "      <th>compliance_synthetic_designs</th>\n",
       "      <th>...</th>\n",
       "      <th>average_normalized_bar_width</th>\n",
       "      <th>max_normalized_bar_width</th>\n",
       "      <th>min_bar_width</th>\n",
       "      <th>average_bar_width</th>\n",
       "      <th>max_bar_widgth</th>\n",
       "      <th>bars_lengths</th>\n",
       "      <th>normalized_bars_lengths</th>\n",
       "      <th>bars_widths</th>\n",
       "      <th>normalized_bars_widths</th>\n",
       "      <th>bars_coordinates</th>\n",
       "    </tr>\n",
       "  </thead>\n",
       "  <tbody>\n",
       "    <tr>\n",
       "      <th>12000</th>\n",
       "      <td>2021-05-25 12_40_17_357</td>\n",
       "      <td>90</td>\n",
       "      <td>[0.0, 90.00000000000001, 30.465544919459887, 1...</td>\n",
       "      <td>0.000000</td>\n",
       "      <td>[10197, 10198, 10199, 100, 201, 302, 403, 504,...</td>\n",
       "      <td>[9797]</td>\n",
       "      <td>[29.0]</td>\n",
       "      <td>[1.0]</td>\n",
       "      <td>0.13229</td>\n",
       "      <td>100.414207</td>\n",
       "      <td>...</td>\n",
       "      <td>0.0175</td>\n",
       "      <td>0.02</td>\n",
       "      <td>0.1</td>\n",
       "      <td>0.175</td>\n",
       "      <td>0.2</td>\n",
       "      <td>[10, 5.882352941176471, 11.601813484303541, 10...</td>\n",
       "      <td>[1.0, 0.5882352941176472, 1.1601813484303543, ...</td>\n",
       "      <td>[0.2, 0.2, 0.1, 0.2]</td>\n",
       "      <td>[0.019999999999999907, 0.019999999999999907, 0...</td>\n",
       "      <td>[[[0.0, 0.0], [-0.2, 0.0], [-0.2, -10.0], [0.0...</td>\n",
       "    </tr>\n",
       "    <tr>\n",
       "      <th>24817</th>\n",
       "      <td>2021-05-25 12_40_17_357</td>\n",
       "      <td>270</td>\n",
       "      <td>[180.0, 90.0, 149.5344550805401, 22.0884424798...</td>\n",
       "      <td>22.088442</td>\n",
       "      <td>[10197, 10198, 10199, 100, 201, 302, 403, 504,...</td>\n",
       "      <td>[9797]</td>\n",
       "      <td>[29.0]</td>\n",
       "      <td>[1.0]</td>\n",
       "      <td>0.13229</td>\n",
       "      <td>100.414207</td>\n",
       "      <td>...</td>\n",
       "      <td>0.0175</td>\n",
       "      <td>0.02</td>\n",
       "      <td>0.1</td>\n",
       "      <td>0.175</td>\n",
       "      <td>0.2</td>\n",
       "      <td>[10, 5.882352941176471, 11.601813484303541, 10...</td>\n",
       "      <td>[1.0, 0.5882352941176472, 1.1601813484303543, ...</td>\n",
       "      <td>[0.2, 0.2, 0.1, 0.2]</td>\n",
       "      <td>[0.019999999999999907, 0.019999999999999907, 0...</td>\n",
       "      <td>[[[0.0, 0.0], [-0.2, 0.0], [-0.2, -10.0], [0.0...</td>\n",
       "    </tr>\n",
       "    <tr>\n",
       "      <th>34509</th>\n",
       "      <td>2021-05-25 12_40_17_357</td>\n",
       "      <td>0</td>\n",
       "      <td>[90.0, 0.0, 59.53445508054013, 67.91155752011632]</td>\n",
       "      <td>0.000000</td>\n",
       "      <td>[10197, 10198, 10199, 100, 201, 302, 403, 504,...</td>\n",
       "      <td>[9797]</td>\n",
       "      <td>[29.0]</td>\n",
       "      <td>[1.0]</td>\n",
       "      <td>0.13229</td>\n",
       "      <td>100.414207</td>\n",
       "      <td>...</td>\n",
       "      <td>0.0175</td>\n",
       "      <td>0.02</td>\n",
       "      <td>0.1</td>\n",
       "      <td>0.175</td>\n",
       "      <td>0.2</td>\n",
       "      <td>[10, 5.882352941176471, 11.601813484303541, 10...</td>\n",
       "      <td>[1.0, 0.5882352941176472, 1.1601813484303543, ...</td>\n",
       "      <td>[0.2, 0.2, 0.1, 0.2]</td>\n",
       "      <td>[0.019999999999999907, 0.019999999999999907, 0...</td>\n",
       "      <td>[[[0.0, 0.0], [-0.2, 0.0], [-0.2, -10.0], [0.0...</td>\n",
       "    </tr>\n",
       "    <tr>\n",
       "      <th>61986</th>\n",
       "      <td>2021-05-25 12_40_17_357</td>\n",
       "      <td>180</td>\n",
       "      <td>[90.0, 180.0, 120.46554491945989, 112.08844247...</td>\n",
       "      <td>90.000000</td>\n",
       "      <td>[10197, 10198, 10199, 100, 201, 302, 403, 504,...</td>\n",
       "      <td>[9797]</td>\n",
       "      <td>[29.0]</td>\n",
       "      <td>[1.0]</td>\n",
       "      <td>0.13229</td>\n",
       "      <td>100.414207</td>\n",
       "      <td>...</td>\n",
       "      <td>0.0175</td>\n",
       "      <td>0.02</td>\n",
       "      <td>0.1</td>\n",
       "      <td>0.175</td>\n",
       "      <td>0.2</td>\n",
       "      <td>[10, 5.882352941176471, 11.601813484303541, 10...</td>\n",
       "      <td>[1.0, 0.5882352941176472, 1.1601813484303543, ...</td>\n",
       "      <td>[0.2, 0.2, 0.1, 0.2]</td>\n",
       "      <td>[0.019999999999999907, 0.019999999999999907, 0...</td>\n",
       "      <td>[[[0.0, 0.0], [-0.2, 0.0], [-0.2, -10.0], [0.0...</td>\n",
       "    </tr>\n",
       "  </tbody>\n",
       "</table>\n",
       "<p>4 rows × 28 columns</p>\n",
       "</div>"
      ],
      "text/plain": [
       "              design_reference  angle_rotation  \\\n",
       "12000  2021-05-25 12_40_17_357              90   \n",
       "24817  2021-05-25 12_40_17_357             270   \n",
       "34509  2021-05-25 12_40_17_357               0   \n",
       "61986  2021-05-25 12_40_17_357             180   \n",
       "\n",
       "                                     overhangs_in_design  min_overhang  \\\n",
       "12000  [0.0, 90.00000000000001, 30.465544919459887, 1...      0.000000   \n",
       "24817  [180.0, 90.0, 149.5344550805401, 22.0884424798...     22.088442   \n",
       "34509  [90.0, 0.0, 59.53445508054013, 67.91155752011632]      0.000000   \n",
       "61986  [90.0, 180.0, 120.46554491945989, 112.08844247...     90.000000   \n",
       "\n",
       "                                                BC_nodes F_nodes F_tetas  \\\n",
       "12000  [10197, 10198, 10199, 100, 201, 302, 403, 504,...  [9797]  [29.0]   \n",
       "24817  [10197, 10198, 10199, 100, 201, 302, 403, 504,...  [9797]  [29.0]   \n",
       "34509  [10197, 10198, 10199, 100, 201, 302, 403, 504,...  [9797]  [29.0]   \n",
       "61986  [10197, 10198, 10199, 100, 201, 302, 403, 504,...  [9797]  [29.0]   \n",
       "\n",
       "      F_values  volume_fractions  compliance_synthetic_designs  ...  \\\n",
       "12000    [1.0]           0.13229                    100.414207  ...   \n",
       "24817    [1.0]           0.13229                    100.414207  ...   \n",
       "34509    [1.0]           0.13229                    100.414207  ...   \n",
       "61986    [1.0]           0.13229                    100.414207  ...   \n",
       "\n",
       "       average_normalized_bar_width  max_normalized_bar_width  min_bar_width  \\\n",
       "12000                        0.0175                      0.02            0.1   \n",
       "24817                        0.0175                      0.02            0.1   \n",
       "34509                        0.0175                      0.02            0.1   \n",
       "61986                        0.0175                      0.02            0.1   \n",
       "\n",
       "       average_bar_width  max_bar_widgth  \\\n",
       "12000              0.175             0.2   \n",
       "24817              0.175             0.2   \n",
       "34509              0.175             0.2   \n",
       "61986              0.175             0.2   \n",
       "\n",
       "                                            bars_lengths  \\\n",
       "12000  [10, 5.882352941176471, 11.601813484303541, 10...   \n",
       "24817  [10, 5.882352941176471, 11.601813484303541, 10...   \n",
       "34509  [10, 5.882352941176471, 11.601813484303541, 10...   \n",
       "61986  [10, 5.882352941176471, 11.601813484303541, 10...   \n",
       "\n",
       "                                 normalized_bars_lengths  \\\n",
       "12000  [1.0, 0.5882352941176472, 1.1601813484303543, ...   \n",
       "24817  [1.0, 0.5882352941176472, 1.1601813484303543, ...   \n",
       "34509  [1.0, 0.5882352941176472, 1.1601813484303543, ...   \n",
       "61986  [1.0, 0.5882352941176472, 1.1601813484303543, ...   \n",
       "\n",
       "                bars_widths  \\\n",
       "12000  [0.2, 0.2, 0.1, 0.2]   \n",
       "24817  [0.2, 0.2, 0.1, 0.2]   \n",
       "34509  [0.2, 0.2, 0.1, 0.2]   \n",
       "61986  [0.2, 0.2, 0.1, 0.2]   \n",
       "\n",
       "                                  normalized_bars_widths  \\\n",
       "12000  [0.019999999999999907, 0.019999999999999907, 0...   \n",
       "24817  [0.019999999999999907, 0.019999999999999907, 0...   \n",
       "34509  [0.019999999999999907, 0.019999999999999907, 0...   \n",
       "61986  [0.019999999999999907, 0.019999999999999907, 0...   \n",
       "\n",
       "                                        bars_coordinates  \n",
       "12000  [[[0.0, 0.0], [-0.2, 0.0], [-0.2, -10.0], [0.0...  \n",
       "24817  [[[0.0, 0.0], [-0.2, 0.0], [-0.2, -10.0], [0.0...  \n",
       "34509  [[[0.0, 0.0], [-0.2, 0.0], [-0.2, -10.0], [0.0...  \n",
       "61986  [[[0.0, 0.0], [-0.2, 0.0], [-0.2, -10.0], [0.0...  \n",
       "\n",
       "[4 rows x 28 columns]"
      ]
     },
     "execution_count": 4,
     "metadata": {},
     "output_type": "execute_result"
    }
   ],
   "source": [
    "# For the design \"2021-05-25 12_40_17_357\", all parameters are alike except for the variables \"angle_rotation\", \"overhangs_in_design\" and \"min_overhang\"\n",
    "parameters_of_train_set[parameters_of_train_set.design_reference=='2021-05-25 12_40_17_357']"
   ]
  },
  {
   "cell_type": "code",
   "execution_count": 5,
   "metadata": {},
   "outputs": [
    {
     "data": {
      "text/plain": [
       "<matplotlib.axes._subplots.AxesSubplot at 0x1bd180fd828>"
      ]
     },
     "execution_count": 5,
     "metadata": {},
     "output_type": "execute_result"
    },
    {
     "data": {
      "image/png": "[encoded data removed]",
      "text/plain": [
       "<Figure size 1080x216 with 4 Axes>"
      ]
     },
     "metadata": {
      "needs_background": "light"
     },
     "output_type": "display_data"
    }
   ],
   "source": [
    "fig, axes = plt.subplots(ncols=4, figsize=(15,3))\n",
    "sns.distplot(parameters_of_train_set.number_of_bars, ax=axes[0])\n",
    "sns.distplot(parameters_of_train_set.min_overhang, ax=axes[1])\n",
    "sns.distplot(parameters_of_train_set.max_normalized_bar_length, ax=axes[2])\n",
    "sns.distplot(parameters_of_train_set.min_normalized_bar_width, ax=axes[3])"
   ]
  },
  {
   "cell_type": "markdown",
   "metadata": {},
   "source": [
    "## Visualizing designs from the train set"
   ]
  },
  {
   "cell_type": "code",
   "execution_count": 6,
   "metadata": {
    "scrolled": true
   },
   "outputs": [
    {
     "data": {
      "text/plain": [
       "(<matplotlib.image.AxesImage at 0x1bd184e4240>,)"
      ]
     },
     "execution_count": 6,
     "metadata": {},
     "output_type": "execute_result"
    },
    {
     "data": {
      "image/png": "[encoded data removed]",
      "text/plain": [
       "<Figure size 1080x1080 with 3 Axes>"
      ]
     },
     "metadata": {
      "needs_background": "light"
     },
     "output_type": "display_data"
    }
   ],
   "source": [
    "import cv2\n",
    "picked_designs = ['2021-05-25 12_40_17_357', '2021-05-25 12_40_17_390', '2021-05-25 12_40_17_389']\n",
    "images = [cv2.imread('./data_shared/train/designs/'+d+'.png', 0) for d in picked_designs]\n",
    "\n",
    "fig, axes = plt.subplots(1, 3, figsize=(15,15))\n",
    "\n",
    "axes[0].imshow(255-images[0], cmap='gray', vmin=0, vmax=255),\n",
    "axes[1].imshow(255-images[1], cmap='gray', vmin=0, vmax=255),\n",
    "axes[2].imshow(255-images[2], cmap='gray', vmin=0, vmax=255),\n"
   ]
  },
  {
   "cell_type": "code",
   "execution_count": 17,
   "metadata": {},
   "outputs": [],
   "source": [
    "def draw_mechanical_constraints_on_design(design, F_nodes, F_tetas, BC_nodes):\n",
    "    # Reshaping mechanical parameters into 2D matrices\n",
    "    dim = (101, 101)\n",
    "    load_nodes = list(map(int, F_nodes.replace('[', '').replace(']', '').split(',')))\n",
    "    angles = list(map(float, F_tetas.replace('[', '').replace(']', '').split(',')))\n",
    "    F = np.zeros(dim) \n",
    "    for ind in range(len(load_nodes)):\n",
    "        l = load_nodes[ind]\n",
    "        angle = float(angles[ind])*np.pi/180\n",
    "        j = l//(dim[1])\n",
    "        i = l%(dim[0])\n",
    "        F[i,j] = angle\n",
    "    F = blur_matrix_with_fixed_filter_value(F)\n",
    "        \n",
    "    fixed_nodes = list(map(int, BC_nodes.replace('[', '').replace(']', '').split(',')))\n",
    "    BC = np.zeros(dim)\n",
    "    for f in fixed_nodes:\n",
    "        j = f//(dim[1])\n",
    "        i = f%(dim[0])\n",
    "        BC[i,j] = 1.0\n",
    "\n",
    "    # Reading 2D design\n",
    "    design = 255-cv2.imread('./data_shared/train/designs/'+design+'.png')\n",
    "    design = cv2.resize(design, dim, interpolation = cv2.INTER_AREA)\n",
    "    rows, cols = np. where(F>0)\n",
    "    for i in range(len(rows)):\n",
    "        design[rows[i], cols[i]] = [0,255,0]\n",
    "\n",
    "    rows, cols = np. where(BC>0)\n",
    "    for i in range(len(rows)):\n",
    "        design[rows[i], cols[i]] = [ 255,0,0]\n",
    "    return design"
   ]
  },
  {
   "cell_type": "code",
   "execution_count": 18,
   "metadata": {},
   "outputs": [],
   "source": [
    "def blur_matrix_with_fixed_filter_value(matrix, filt_size=5):\n",
    "    \"\"\"\n",
    "    This matrix repeates the load value in location i,j in a radius of filt_size around the value.\n",
    "    It helps the matrix to become more dense (less zero values), and hence, more visible.\n",
    "    \"\"\"\n",
    "    indices = matrix.nonzero()\n",
    "    vals = matrix[matrix.nonzero()]       \n",
    "    blur = cv2.blur(matrix,(filt_size,filt_size))\n",
    "    blur[blur>0] = 1.0\n",
    "    nx, ny = indices\n",
    "    for k in range(len(nx)) :\n",
    "        x = nx[k]\n",
    "        y = ny[k]\n",
    "        o, r = np.divmod(filt_size, 2)\n",
    "        l = (x-(o+r-1)).clip(0)\n",
    "        u = (y-(o+r-1)).clip(0)\n",
    "        blur[l: x+o+1, u:y+o+1] = vals[k]\n",
    "    return blur\n",
    "    "
   ]
  },
  {
   "cell_type": "code",
   "execution_count": 19,
   "metadata": {},
   "outputs": [
    {
     "data": {
      "text/plain": [
       "(<matplotlib.image.AxesImage at 0x1bd15fae2e8>,)"
      ]
     },
     "execution_count": 19,
     "metadata": {},
     "output_type": "execute_result"
    },
    {
     "data": {
      "image/png": "[encoded data removed]",
      "text/plain": [
       "<Figure size 1080x1080 with 3 Axes>"
      ]
     },
     "metadata": {
      "needs_background": "light"
     },
     "output_type": "display_data"
    }
   ],
   "source": [
    "designs_with_mechanical_conditions = [\n",
    "    draw_mechanical_constraints_on_design(design=d, \n",
    "                                          F_nodes = parameters_of_train_set[(parameters_of_train_set.design_reference==d) & (parameters_of_train_set.angle_rotation==0)].F_nodes.tolist()[0],\n",
    "                                          F_tetas = parameters_of_train_set[(parameters_of_train_set.design_reference==d) & (parameters_of_train_set.angle_rotation==0)].F_tetas.tolist()[0],\n",
    "                                          BC_nodes = parameters_of_train_set[(parameters_of_train_set.design_reference==d) & (parameters_of_train_set.angle_rotation==0)].BC_nodes.tolist()[0]\n",
    "                                         ) for d in picked_designs]\n",
    "\n",
    "fig, axes = plt.subplots(1, 3, figsize=(15,15))\n",
    "\n",
    "axes[0].imshow(designs_with_mechanical_conditions[0], cmap='gray', vmin=0, vmax=255),\n",
    "axes[1].imshow(designs_with_mechanical_conditions[1], cmap='gray', vmin=0, vmax=255),\n",
    "axes[2].imshow(designs_with_mechanical_conditions[2], cmap='gray', vmin=0, vmax=255),\n"
   ]
  },
  {
   "cell_type": "code",
   "execution_count": null,
   "metadata": {},
   "outputs": [],
   "source": []
  }
 ],
 "metadata": {
  "kernelspec": {
   "display_name": "Python 3",
   "language": "python",
   "name": "python3"
  },
  "language_info": {
   "codemirror_mode": {
    "name": "ipython",
    "version": 3
   },
   "file_extension": ".py",
   "mimetype": "text/x-python",
   "name": "python",
   "nbconvert_exporter": "python",
   "pygments_lexer": "ipython3",
   "version": "3.7.1"
  }
 },
 "nbformat": 4,
 "nbformat_minor": 4
}
